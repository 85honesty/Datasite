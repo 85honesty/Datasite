{
  "nbformat": 4,
  "nbformat_minor": 0,
  "metadata": {
    "colab": {
      "name": "datasite.ipynb",
      "provenance": [],
      "authorship_tag": "ABX9TyOJ77P6lP5hWg3ksIMx4b3e",
      "include_colab_link": true
    },
    "kernelspec": {
      "name": "python3",
      "display_name": "Python 3"
    },
    "language_info": {
      "name": "python"
    }
  },
  "cells": [
    {
      "cell_type": "markdown",
      "metadata": {
        "id": "view-in-github",
        "colab_type": "text"
      },
      "source": [
        "<a href=\"https://colab.research.google.com/github/85honesty/Datasite/blob/main/datasite.ipynb\" target=\"_parent\"><img src=\"https://colab.research.google.com/assets/colab-badge.svg\" alt=\"Open In Colab\"/></a>"
      ]
    },
    {
      "cell_type": "markdown",
      "source": [
        "# 우주AI 데일리남 블로그\n",
        "- 2022 상반기(2분기)_AI 컨텐츠 기획\n",
        "- https://blog.naver.com/85honesty/222703861252"
      ],
      "metadata": {
        "id": "nG5DjL9FeP-k"
      }
    },
    {
      "cell_type": "markdown",
      "source": [
        "# 데이터 사이트\n",
        "\n",
        "- 데이터 분석을 하려면 데이터가 있어야 합니다.\n",
        "- 그래서 데이터 사이트를 소개를 하려고 합니다.\n",
        "​\n",
        "\n",
        "- 데이터를 받는 곳에서는 시각화를 해놓은 곳도 있고\n",
        "- 다양한 분석결과를 미리 볼 수 도 있습니다.\n",
        "\n",
        "\n",
        "- 여러 데이터 사이트 중에서 몇개의 사이트를 추천드리려고 합니다."
      ],
      "metadata": {
        "id": "P3UQZsrbdUjN"
      }
    },
    {
      "cell_type": "markdown",
      "source": [
        "# 데이터 사이트 추천\n",
        "1. 캐글 - https://www.kaggle.com/\n",
        "\n",
        "1. 데이콘(한국판 캐글) - https://dacon.io/\n",
        "\n",
        "1. AI허브 - https://aihub.or.kr/ \n",
        "\n",
        "1. 공공데이터 - https://www.data.go.kr/\n",
        "\n",
        "1. 한국데이터 거래소 - https://kdx.kr/main\n"
      ],
      "metadata": {
        "id": "oCehx6ADdpUn"
      }
    }
  ]
}